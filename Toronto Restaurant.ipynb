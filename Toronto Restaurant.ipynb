{
  "nbformat": 4,
  "nbformat_minor": 0,
  "metadata": {
    "colab": {
      "name": "Untitled11.ipynb",
      "provenance": [],
      "authorship_tag": "ABX9TyMPgoMqXcP9cGCmjICBcDa3",
      "include_colab_link": true
    },
    "kernelspec": {
      "name": "python3",
      "display_name": "Python 3"
    },
    "language_info": {
      "name": "python"
    }
  },
  "cells": [
    {
      "cell_type": "markdown",
      "metadata": {
        "id": "view-in-github",
        "colab_type": "text"
      },
      "source": [
        "<a href=\"https://colab.research.google.com/github/ronaldgenesmith3/Coursera_Capstone/blob/main/Toronto%20Restaurant.ipynb\" target=\"_parent\"><img src=\"https://colab.research.google.com/assets/colab-badge.svg\" alt=\"Open In Colab\"/></a>"
      ]
    },
    {
      "cell_type": "markdown",
      "metadata": {
        "id": "-ZRr6pVsnp6K"
      },
      "source": [
        "# Introduction\n",
        "Toronto is the most populus city in Canada. It is considered one of the most multicultural cities in the world. It provides lot of business oppourtunities and business friendly environment. As it is highly developed city the cost of doing business is also one of the highest. Thus, any new business venture or expansion needs to be analysed carefully. The insights derived from analysis will give good understanding of the business environment which help in strategically targeting the market. This will help in reduction of risk. And the Return on Investment will be reasonable."
      ]
    },
    {
      "cell_type": "markdown",
      "metadata": {
        "id": "bEPgPoFDoQWO"
      },
      "source": [
        "# Business Problem\n",
        "Cuisine in Toronto is rich and diverse. There has been a recent surge in people looking for a greater connection to the earth through their choice of cuisine. In order to capitalize on this a local investor believes that a wild game restaurant would be a wonderful investment in Toronto. However wild game is not something that every person will want so it is important to plan on an appropriate location for the new restaurant."
      ]
    },
    {
      "cell_type": "markdown",
      "metadata": {
        "id": "yWXXQSHHplDl"
      },
      "source": [
        "# Target Audience\n",
        "My Client wants to open his business in Toronto, so I only focus on that city during my analysis. The objective is to locate and recommend to the management which neighborhood of Toronto will be best choice to start a restaurant. The management also expects to understand the rationale of the recommendations made.\n",
        "\n",
        "This would interest anyone who wants to start a new restaurant in Toronto."
      ]
    }
  ]
}